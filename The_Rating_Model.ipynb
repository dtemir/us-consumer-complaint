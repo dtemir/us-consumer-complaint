{
  "nbformat": 4,
  "nbformat_minor": 0,
  "metadata": {
    "colab": {
      "name": "Bank.ipynb",
      "provenance": []
    },
    "kernelspec": {
      "name": "python3",
      "display_name": "Python 3"
    },
    "language_info": {
      "name": "python"
    }
  },
  "cells": [
    {
      "cell_type": "code",
      "metadata": {
        "id": "XbxxfCPcpgC9"
      },
      "source": [
        "import pandas as pd\n",
        "import numpy as np\n",
        "\n",
        "df = pd.read_csv('/content/drive/MyDrive/Hackathon/Consumer Data/clean_complaints.csv')\n",
        "df = pd.DataFrame(df)"
      ],
      "execution_count": 1,
      "outputs": []
    },
    {
      "cell_type": "markdown",
      "metadata": {
        "id": "6JdnpsykIIDI"
      },
      "source": [
        "# Lets see this data"
      ]
    },
    {
      "cell_type": "code",
      "metadata": {
        "colab": {
          "base_uri": "https://localhost:8080/",
          "height": 686
        },
        "id": "HxgPxD8rsbjV",
        "outputId": "68872cd1-f5cd-487e-df72-653942184a3d"
      },
      "source": [
        "df.head()"
      ],
      "execution_count": 3,
      "outputs": [
        {
          "output_type": "execute_result",
          "data": {
            "text/html": [
              "<div>\n",
              "<style scoped>\n",
              "    .dataframe tbody tr th:only-of-type {\n",
              "        vertical-align: middle;\n",
              "    }\n",
              "\n",
              "    .dataframe tbody tr th {\n",
              "        vertical-align: top;\n",
              "    }\n",
              "\n",
              "    .dataframe thead th {\n",
              "        text-align: right;\n",
              "    }\n",
              "</style>\n",
              "<table border=\"1\" class=\"dataframe\">\n",
              "  <thead>\n",
              "    <tr style=\"text-align: right;\">\n",
              "      <th></th>\n",
              "      <th>Complaint ID</th>\n",
              "      <th>Date received</th>\n",
              "      <th>Product</th>\n",
              "      <th>Sub-product</th>\n",
              "      <th>Issue</th>\n",
              "      <th>Sub-issue</th>\n",
              "      <th>Consumer complaint narrative</th>\n",
              "      <th>Company public response</th>\n",
              "      <th>Company</th>\n",
              "      <th>State</th>\n",
              "      <th>ZIP code</th>\n",
              "      <th>Consumer consent provided?</th>\n",
              "      <th>Submitted via</th>\n",
              "      <th>Date sent to company</th>\n",
              "      <th>Company response to consumer</th>\n",
              "      <th>Timely response?</th>\n",
              "      <th>Consumer disputed?</th>\n",
              "    </tr>\n",
              "  </thead>\n",
              "  <tbody>\n",
              "    <tr>\n",
              "      <th>0</th>\n",
              "      <td>3379500</td>\n",
              "      <td>2019-09-19</td>\n",
              "      <td>Credit reporting, credit repair services, or o...</td>\n",
              "      <td>Credit reporting</td>\n",
              "      <td>Incorrect information on your report</td>\n",
              "      <td>Information belongs to someone else</td>\n",
              "      <td>NaN</td>\n",
              "      <td>Company has responded to the consumer and the ...</td>\n",
              "      <td>Experian Information Solutions Inc.</td>\n",
              "      <td>PA</td>\n",
              "      <td>15206</td>\n",
              "      <td>Consent not provided</td>\n",
              "      <td>Web</td>\n",
              "      <td>2019-09-20</td>\n",
              "      <td>Closed with non-monetary relief</td>\n",
              "      <td>Yes</td>\n",
              "      <td>NaN</td>\n",
              "    </tr>\n",
              "    <tr>\n",
              "      <th>1</th>\n",
              "      <td>3255455</td>\n",
              "      <td>2019-05-23</td>\n",
              "      <td>Checking or savings account</td>\n",
              "      <td>Checking account</td>\n",
              "      <td>Managing an account</td>\n",
              "      <td>Deposits and withdrawals</td>\n",
              "      <td>NaN</td>\n",
              "      <td>Company has responded to the consumer and the ...</td>\n",
              "      <td>MIDFIRST BANK</td>\n",
              "      <td>AZ</td>\n",
              "      <td>85254</td>\n",
              "      <td>NaN</td>\n",
              "      <td>Referral</td>\n",
              "      <td>2019-05-28</td>\n",
              "      <td>Closed with explanation</td>\n",
              "      <td>Yes</td>\n",
              "      <td>NaN</td>\n",
              "    </tr>\n",
              "    <tr>\n",
              "      <th>2</th>\n",
              "      <td>4267123</td>\n",
              "      <td>2021-04-02</td>\n",
              "      <td>Credit reporting, credit repair services, or o...</td>\n",
              "      <td>Credit reporting</td>\n",
              "      <td>Incorrect information on your report</td>\n",
              "      <td>Information belongs to someone else</td>\n",
              "      <td>NaN</td>\n",
              "      <td>NaN</td>\n",
              "      <td>EQUIFAX, INC.</td>\n",
              "      <td>PA</td>\n",
              "      <td>19403</td>\n",
              "      <td>NaN</td>\n",
              "      <td>Web</td>\n",
              "      <td>2021-04-02</td>\n",
              "      <td>Closed with explanation</td>\n",
              "      <td>Yes</td>\n",
              "      <td>NaN</td>\n",
              "    </tr>\n",
              "    <tr>\n",
              "      <th>3</th>\n",
              "      <td>3446074</td>\n",
              "      <td>2019-11-20</td>\n",
              "      <td>Credit card or prepaid card</td>\n",
              "      <td>General-purpose credit card or charge card</td>\n",
              "      <td>Closing your account</td>\n",
              "      <td>Company closed your account</td>\n",
              "      <td>NaN</td>\n",
              "      <td>Company has responded to the consumer and the ...</td>\n",
              "      <td>PENTAGON FEDERAL CREDIT UNION</td>\n",
              "      <td>VA</td>\n",
              "      <td>22304</td>\n",
              "      <td>NaN</td>\n",
              "      <td>Referral</td>\n",
              "      <td>2019-11-21</td>\n",
              "      <td>Closed with explanation</td>\n",
              "      <td>Yes</td>\n",
              "      <td>NaN</td>\n",
              "    </tr>\n",
              "    <tr>\n",
              "      <th>4</th>\n",
              "      <td>4239229</td>\n",
              "      <td>2021-03-23</td>\n",
              "      <td>Money transfer, virtual currency, or money ser...</td>\n",
              "      <td>Foreign currency exchange</td>\n",
              "      <td>Fraud or scam</td>\n",
              "      <td>NaN</td>\n",
              "      <td>NaN</td>\n",
              "      <td>NaN</td>\n",
              "      <td>Square Inc.</td>\n",
              "      <td>CA</td>\n",
              "      <td>91387</td>\n",
              "      <td>NaN</td>\n",
              "      <td>Web</td>\n",
              "      <td>2021-03-23</td>\n",
              "      <td>Closed with explanation</td>\n",
              "      <td>Yes</td>\n",
              "      <td>NaN</td>\n",
              "    </tr>\n",
              "  </tbody>\n",
              "</table>\n",
              "</div>"
            ],
            "text/plain": [
              "   Complaint ID Date received  ... Timely response? Consumer disputed?\n",
              "0       3379500    2019-09-19  ...              Yes                NaN\n",
              "1       3255455    2019-05-23  ...              Yes                NaN\n",
              "2       4267123    2021-04-02  ...              Yes                NaN\n",
              "3       3446074    2019-11-20  ...              Yes                NaN\n",
              "4       4239229    2021-03-23  ...              Yes                NaN\n",
              "\n",
              "[5 rows x 17 columns]"
            ]
          },
          "metadata": {
            "tags": []
          },
          "execution_count": 3
        }
      ]
    },
    {
      "cell_type": "code",
      "metadata": {
        "colab": {
          "base_uri": "https://localhost:8080/"
        },
        "id": "B5JFs385sdhu",
        "outputId": "e462b512-08f7-4080-f538-0271a3e3bc23"
      },
      "source": [
        "rating = 100\n",
        "\n",
        "bool_series = pd.isnull(df[\"Company response to consumer\"])\n",
        "a = df[\"Consumer disputed?\"] = 'Yes'\n",
        "\n",
        "# displayed data only with team = NaN\n",
        "len(df['Company'].unique())"
      ],
      "execution_count": 27,
      "outputs": [
        {
          "output_type": "execute_result",
          "data": {
            "text/plain": [
              "4853"
            ]
          },
          "metadata": {
            "tags": []
          },
          "execution_count": 27
        }
      ]
    },
    {
      "cell_type": "code",
      "metadata": {
        "colab": {
          "base_uri": "https://localhost:8080/",
          "height": 469
        },
        "id": "mig0hUOkswLk",
        "outputId": "2b8dde98-8132-409d-f996-f119c7632f32"
      },
      "source": [
        "df1 = df[['Company response to consumer','Timely response?', 'Consumer disputed?', 'Company']]\n",
        "df1"
      ],
      "execution_count": 30,
      "outputs": [
        {
          "output_type": "execute_result",
          "data": {
            "text/html": [
              "<div>\n",
              "<style scoped>\n",
              "    .dataframe tbody tr th:only-of-type {\n",
              "        vertical-align: middle;\n",
              "    }\n",
              "\n",
              "    .dataframe tbody tr th {\n",
              "        vertical-align: top;\n",
              "    }\n",
              "\n",
              "    .dataframe thead th {\n",
              "        text-align: right;\n",
              "    }\n",
              "</style>\n",
              "<table border=\"1\" class=\"dataframe\">\n",
              "  <thead>\n",
              "    <tr style=\"text-align: right;\">\n",
              "      <th></th>\n",
              "      <th>Company response to consumer</th>\n",
              "      <th>Timely response?</th>\n",
              "      <th>Consumer disputed?</th>\n",
              "      <th>Company</th>\n",
              "    </tr>\n",
              "  </thead>\n",
              "  <tbody>\n",
              "    <tr>\n",
              "      <th>0</th>\n",
              "      <td>Closed with non-monetary relief</td>\n",
              "      <td>Yes</td>\n",
              "      <td>Yes</td>\n",
              "      <td>Experian Information Solutions Inc.</td>\n",
              "    </tr>\n",
              "    <tr>\n",
              "      <th>1</th>\n",
              "      <td>Closed with explanation</td>\n",
              "      <td>Yes</td>\n",
              "      <td>Yes</td>\n",
              "      <td>MIDFIRST BANK</td>\n",
              "    </tr>\n",
              "    <tr>\n",
              "      <th>2</th>\n",
              "      <td>Closed with explanation</td>\n",
              "      <td>Yes</td>\n",
              "      <td>Yes</td>\n",
              "      <td>EQUIFAX, INC.</td>\n",
              "    </tr>\n",
              "    <tr>\n",
              "      <th>3</th>\n",
              "      <td>Closed with explanation</td>\n",
              "      <td>Yes</td>\n",
              "      <td>Yes</td>\n",
              "      <td>PENTAGON FEDERAL CREDIT UNION</td>\n",
              "    </tr>\n",
              "    <tr>\n",
              "      <th>4</th>\n",
              "      <td>Closed with explanation</td>\n",
              "      <td>Yes</td>\n",
              "      <td>Yes</td>\n",
              "      <td>Square Inc.</td>\n",
              "    </tr>\n",
              "    <tr>\n",
              "      <th>...</th>\n",
              "      <td>...</td>\n",
              "      <td>...</td>\n",
              "      <td>...</td>\n",
              "      <td>...</td>\n",
              "    </tr>\n",
              "    <tr>\n",
              "      <th>1057130</th>\n",
              "      <td>Closed with explanation</td>\n",
              "      <td>Yes</td>\n",
              "      <td>Yes</td>\n",
              "      <td>QUICKEN LOANS, INC.</td>\n",
              "    </tr>\n",
              "    <tr>\n",
              "      <th>1057131</th>\n",
              "      <td>Closed with explanation</td>\n",
              "      <td>Yes</td>\n",
              "      <td>Yes</td>\n",
              "      <td>Navient Solutions, LLC.</td>\n",
              "    </tr>\n",
              "    <tr>\n",
              "      <th>1057132</th>\n",
              "      <td>Closed with explanation</td>\n",
              "      <td>Yes</td>\n",
              "      <td>Yes</td>\n",
              "      <td>Innovis</td>\n",
              "    </tr>\n",
              "    <tr>\n",
              "      <th>1057133</th>\n",
              "      <td>Closed with explanation</td>\n",
              "      <td>Yes</td>\n",
              "      <td>Yes</td>\n",
              "      <td>TRUSTMARK CORPORATION</td>\n",
              "    </tr>\n",
              "    <tr>\n",
              "      <th>1057134</th>\n",
              "      <td>Closed with explanation</td>\n",
              "      <td>Yes</td>\n",
              "      <td>Yes</td>\n",
              "      <td>AMERICAN EXPRESS COMPANY</td>\n",
              "    </tr>\n",
              "  </tbody>\n",
              "</table>\n",
              "<p>1057135 rows × 4 columns</p>\n",
              "</div>"
            ],
            "text/plain": [
              "            Company response to consumer  ...                              Company\n",
              "0        Closed with non-monetary relief  ...  Experian Information Solutions Inc.\n",
              "1                Closed with explanation  ...                        MIDFIRST BANK\n",
              "2                Closed with explanation  ...                        EQUIFAX, INC.\n",
              "3                Closed with explanation  ...        PENTAGON FEDERAL CREDIT UNION\n",
              "4                Closed with explanation  ...                          Square Inc.\n",
              "...                                  ...  ...                                  ...\n",
              "1057130          Closed with explanation  ...                  QUICKEN LOANS, INC.\n",
              "1057131          Closed with explanation  ...              Navient Solutions, LLC.\n",
              "1057132          Closed with explanation  ...                              Innovis\n",
              "1057133          Closed with explanation  ...                TRUSTMARK CORPORATION\n",
              "1057134          Closed with explanation  ...             AMERICAN EXPRESS COMPANY\n",
              "\n",
              "[1057135 rows x 4 columns]"
            ]
          },
          "metadata": {
            "tags": []
          },
          "execution_count": 30
        }
      ]
    },
    {
      "cell_type": "markdown",
      "metadata": {
        "id": "MiGpU1dE7Bgx"
      },
      "source": [
        "The Math:\n"
      ]
    },
    {
      "cell_type": "markdown",
      "metadata": {
        "id": "uiFTwD1HIRYo"
      },
      "source": [
        "# Define the rating model"
      ]
    },
    {
      "cell_type": "code",
      "metadata": {
        "id": "jzUiB68A9m8B"
      },
      "source": [
        "def rateme(df):\n",
        "  Ratings =300\n",
        "  if df1['Consumer disputed?'] == 'Yes':\n",
        "    if Rating>300:\n",
        "      Ratings = Ratings - (0.2 * 300)\n",
        "    else:\n",
        "      Ratings = Ratings - (0.2 * Ratings)\n",
        "  elif df1['Consumer disputed?'] == 'No':\n",
        "    if Ratings>300:\n",
        "      Ratings = Ratings + (0.15*Ratings)\n",
        "    else:\n",
        "      Ratings = Ratings + (0.15*300)\n",
        "  else:\n",
        "    Ratings = Ratings + (0.01*Ratings)\n",
        "\n",
        "\n",
        "  if df1['Company response to consumer'] == 'Closed with non-monetary relief':\n",
        "    if Rating>300:\n",
        "      Ratings = Ratings - (0.01 * 300)\n",
        "    else:\n",
        "      Ratings = Ratings - (0.01 * Ratings)\n",
        "  elif df1['Company response to consumer'] == 'Closed with explanation':\n",
        "    if Rating>300:\n",
        "      Ratings = Ratings - (0.01 * 300)\n",
        "    else:\n",
        "      Ratings = Ratings - (0.01 * Ratings)\n",
        "  elif df1['Company response to consumer'] == 'Untimely response':\n",
        "    if Rating>300:\n",
        "      Ratings = Ratings - (0.03 * 300)\n",
        "    else:\n",
        "      Ratings = Ratings - (0.03 * Ratings)\n",
        "  elif df1['Company response to consumer'] == 'In progress':\n",
        "    if Rating>300:\n",
        "      Ratings = Ratings - (0.01 * 300)\n",
        "    else:\n",
        "      Ratings = Ratings - (0.01 * Ratings)\n",
        "  elif df1['Company response to consumer'] == 'Closed with monetary relief':\n",
        "    if Ratings>300:\n",
        "      Ratings = Ratings + (0.015*Ratings)\n",
        "    else:\n",
        "      Ratings = Ratings + (0.015*300)\n",
        "  elif df1['Company response to consumer'] == 'Closed':\n",
        "    if Rating>300:\n",
        "      Ratings = Ratings - (0.01 * 300)\n",
        "    else:\n",
        "      Ratings = Ratings - (0.01 * Ratings)\n",
        "  elif df1['Company response to consumer'] == 'Closed with relief':\n",
        "    if Ratings>300:\n",
        "      Ratings = Ratings + (0.015*Ratings)\n",
        "    else:\n",
        "      Ratings = Ratings + (0.015*300)\n",
        "  elif df1['Company response to consumer'] == 'Closed without relief':\n",
        "    if Rating>300:\n",
        "      Ratings = Ratings - (0.01 * 300)\n",
        "    else:\n",
        "      Ratings = Ratings - (0.01 * Ratings)\n",
        "\n",
        "\n",
        "  if df1['Timely Response'] == 'No':\n",
        "    if Rating>300:\n",
        "      Ratings = Ratings - (0.09 * 300)\n",
        "    else:\n",
        "      Ratings = Ratings - (0.09 * Ratings)\n",
        "  elif df1['Timely Response'] == 'No':\n",
        "    if Ratings>300:\n",
        "      Ratings = Ratings + (0.065*Ratings)\n",
        "    else:\n",
        "      Ratings = Ratings + (0.065*300)\n",
        "  return Ratings"
      ],
      "execution_count": 33,
      "outputs": []
    },
    {
      "cell_type": "markdown",
      "metadata": {
        "id": "Birn7-vpIXzY"
      },
      "source": [
        "\n",
        "\n",
        "\n",
        "# Implementation"
      ]
    },
    {
      "cell_type": "code",
      "metadata": {
        "colab": {
          "base_uri": "https://localhost:8080/",
          "height": 471
        },
        "id": "MANl1OA-9oWB",
        "outputId": "a2ddfcff-e5eb-44b2-9232-5fa5d8cb3c31"
      },
      "source": [
        "ratings = {}\n",
        "for company in df1:\n",
        "  ratings [df1['Company']]= rateme(df1)"
      ],
      "execution_count": 35,
      "outputs": [
        {
          "output_type": "error",
          "ename": "ValueError",
          "evalue": "ignored",
          "traceback": [
            "\u001b[0;31m---------------------------------------------------------------------------\u001b[0m",
            "\u001b[0;31mValueError\u001b[0m                                Traceback (most recent call last)",
            "\u001b[0;32m<ipython-input-35-e21d5903c6b3>\u001b[0m in \u001b[0;36m<module>\u001b[0;34m()\u001b[0m\n\u001b[1;32m      1\u001b[0m \u001b[0mratings\u001b[0m \u001b[0;34m=\u001b[0m \u001b[0;34m{\u001b[0m\u001b[0;34m}\u001b[0m\u001b[0;34m\u001b[0m\u001b[0;34m\u001b[0m\u001b[0m\n\u001b[1;32m      2\u001b[0m \u001b[0;32mfor\u001b[0m \u001b[0mcompany\u001b[0m \u001b[0;32min\u001b[0m \u001b[0mdf1\u001b[0m\u001b[0;34m:\u001b[0m\u001b[0;34m\u001b[0m\u001b[0;34m\u001b[0m\u001b[0m\n\u001b[0;32m----> 3\u001b[0;31m   \u001b[0mratings\u001b[0m \u001b[0;34m[\u001b[0m\u001b[0mdf1\u001b[0m\u001b[0;34m[\u001b[0m\u001b[0;34m'Company'\u001b[0m\u001b[0;34m]\u001b[0m\u001b[0;34m]\u001b[0m\u001b[0;34m=\u001b[0m \u001b[0mrateme\u001b[0m\u001b[0;34m(\u001b[0m\u001b[0mdf1\u001b[0m\u001b[0;34m)\u001b[0m\u001b[0;34m\u001b[0m\u001b[0;34m\u001b[0m\u001b[0m\n\u001b[0m",
            "\u001b[0;32m<ipython-input-33-82021e11eff5>\u001b[0m in \u001b[0;36mrateme\u001b[0;34m(df)\u001b[0m\n\u001b[1;32m      1\u001b[0m \u001b[0;32mdef\u001b[0m \u001b[0mrateme\u001b[0m\u001b[0;34m(\u001b[0m\u001b[0mdf\u001b[0m\u001b[0;34m)\u001b[0m\u001b[0;34m:\u001b[0m\u001b[0;34m\u001b[0m\u001b[0;34m\u001b[0m\u001b[0m\n\u001b[1;32m      2\u001b[0m   \u001b[0mRatings\u001b[0m \u001b[0;34m=\u001b[0m\u001b[0;36m300\u001b[0m\u001b[0;34m\u001b[0m\u001b[0;34m\u001b[0m\u001b[0m\n\u001b[0;32m----> 3\u001b[0;31m   \u001b[0;32mif\u001b[0m \u001b[0mdf1\u001b[0m\u001b[0;34m[\u001b[0m\u001b[0;34m'Consumer disputed?'\u001b[0m\u001b[0;34m]\u001b[0m \u001b[0;34m==\u001b[0m \u001b[0;34m'Yes'\u001b[0m\u001b[0;34m:\u001b[0m\u001b[0;34m\u001b[0m\u001b[0;34m\u001b[0m\u001b[0m\n\u001b[0m\u001b[1;32m      4\u001b[0m     \u001b[0;32mif\u001b[0m \u001b[0mRating\u001b[0m\u001b[0;34m>\u001b[0m\u001b[0;36m300\u001b[0m\u001b[0;34m:\u001b[0m\u001b[0;34m\u001b[0m\u001b[0;34m\u001b[0m\u001b[0m\n\u001b[1;32m      5\u001b[0m       \u001b[0mRatings\u001b[0m \u001b[0;34m=\u001b[0m \u001b[0mRatings\u001b[0m \u001b[0;34m-\u001b[0m \u001b[0;34m(\u001b[0m\u001b[0;36m0.2\u001b[0m \u001b[0;34m*\u001b[0m \u001b[0;36m300\u001b[0m\u001b[0;34m)\u001b[0m\u001b[0;34m\u001b[0m\u001b[0;34m\u001b[0m\u001b[0m\n",
            "\u001b[0;32m/usr/local/lib/python3.7/dist-packages/pandas/core/generic.py\u001b[0m in \u001b[0;36m__nonzero__\u001b[0;34m(self)\u001b[0m\n\u001b[1;32m   1328\u001b[0m     \u001b[0;32mdef\u001b[0m \u001b[0m__nonzero__\u001b[0m\u001b[0;34m(\u001b[0m\u001b[0mself\u001b[0m\u001b[0;34m)\u001b[0m\u001b[0;34m:\u001b[0m\u001b[0;34m\u001b[0m\u001b[0;34m\u001b[0m\u001b[0m\n\u001b[1;32m   1329\u001b[0m         raise ValueError(\n\u001b[0;32m-> 1330\u001b[0;31m             \u001b[0;34mf\"The truth value of a {type(self).__name__} is ambiguous. \"\u001b[0m\u001b[0;34m\u001b[0m\u001b[0;34m\u001b[0m\u001b[0m\n\u001b[0m\u001b[1;32m   1331\u001b[0m             \u001b[0;34m\"Use a.empty, a.bool(), a.item(), a.any() or a.all().\"\u001b[0m\u001b[0;34m\u001b[0m\u001b[0;34m\u001b[0m\u001b[0m\n\u001b[1;32m   1332\u001b[0m         )\n",
            "\u001b[0;31mValueError\u001b[0m: The truth value of a Series is ambiguous. Use a.empty, a.bool(), a.item(), a.any() or a.all()."
          ]
        }
      ]
    },
    {
      "cell_type": "code",
      "metadata": {
        "id": "uajskwmAHhvQ"
      },
      "source": [
        ""
      ],
      "execution_count": null,
      "outputs": []
    }
  ]
}